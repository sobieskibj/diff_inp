{
 "cells": [
  {
   "cell_type": "markdown",
   "metadata": {},
   "source": [
    "# Diffusion Generative Models and Inpainting Techniques"
   ]
  },
  {
   "cell_type": "markdown",
   "metadata": {},
   "source": [
    "This notebook serves as a general introduction to the topic of diffusion models and their application to the problem of inpainting. It begins with a description of the theoretical foundations of diffusion models with a focus on intuitions that help in grasping the topic from a practical point of view. An implementation of this general framework is then provided together with clarifications of its most important aspects. Next, the problem of inpainting is described in the general context of inverse problems in imaging. At last, one of the first approaches to solving the inpainting problem with the use of diffusion models is presented together with a practical implementation.\n",
    "\n",
    "The content of this notebook is based on the knowledge and materials obtained or extracted from:\n",
    "\n",
    "1. Song et al., _Score-Based Generative Modeling Through Stochastic Differential Equations_, ICLR 2021"
   ]
  },
  {
   "cell_type": "markdown",
   "metadata": {},
   "source": [
    "## Introduction to diffusion models"
   ]
  },
  {
   "cell_type": "code",
   "execution_count": null,
   "metadata": {},
   "outputs": [],
   "source": []
  },
  {
   "cell_type": "markdown",
   "metadata": {},
   "source": [
    "## Application of diffusion models to the inpainting problem"
   ]
  },
  {
   "cell_type": "code",
   "execution_count": null,
   "metadata": {},
   "outputs": [],
   "source": []
  }
 ],
 "metadata": {
  "language_info": {
   "name": "python"
  }
 },
 "nbformat": 4,
 "nbformat_minor": 2
}
